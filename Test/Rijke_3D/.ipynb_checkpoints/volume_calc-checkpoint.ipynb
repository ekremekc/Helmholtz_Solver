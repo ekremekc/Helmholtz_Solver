{
 "cells": [
  {
   "cell_type": "code",
   "execution_count": 1,
   "metadata": {},
   "outputs": [],
   "source": [
    "import dolfin as dolf\n",
    "from math import pi\n",
    "import numpy as np\n",
    "from helmholtz_pkg.passive_flame import PassiveFlame\n",
    "from helmholtz_pkg.flame_transfer_function import n_tau\n",
    "from helmholtz_pkg.active_flame import ActiveFlame\n",
    "from helmholtz_pkg.eigensolvers import fixed_point_iteration_pep\n",
    "from helmholtz_pkg.eigenvectors import normalize_eigenvector\n",
    "from helmholtz_pkg.mshr import *\n",
    "import params\n",
    "import matplotlib.pyplot as plt"
   ]
  },
  {
   "cell_type": "code",
   "execution_count": 2,
   "metadata": {},
   "outputs": [],
   "source": [
    "def mshr():\n",
    "\n",
    "    geometry = MeshXDMF('MeshDir/pipe', write_xdmf_file=True)\n",
    "    geometry()\n",
    "    mesh = geometry.mesh\n",
    "    boundaries = geometry.boundaries\n",
    "\n",
    "    # ________________________________________________________________________________\n",
    "\n",
    "    def fl_subdomain_func(x):\n",
    "        x = x[2]\n",
    "        x_f = params.x_f[0][0]\n",
    "        a_f = params.a_f\n",
    "        return x_f - a_f - dolf.DOLFIN_EPS <= x <= x_f + a_f + dolf.DOLFIN_EPS\n",
    "\n",
    "    subdomains = dolf.MeshFunction('size_t', mesh, mesh.topology().dim())\n",
    "\n",
    "    subdomains.set_all(0)\n",
    "\n",
    "    fl_subdomain = dolf.AutoSubDomain(fl_subdomain_func)\n",
    "    fl_subdomain.mark(subdomains, 1)\n",
    "\n",
    "   \n",
    "\n",
    "    return mesh, boundaries, subdomains\n",
    "\n"
   ]
  },
  {
   "cell_type": "code",
   "execution_count": 3,
   "metadata": {},
   "outputs": [],
   "source": [
    "degree = 1\n",
    "\n",
    "mesh, boundaries, subdomains = mshr()\n",
    "\n",
    "boundary_conditions = {1: {'Robin': params.Y_in},  # inlet\n",
    "                       2: {'Robin': params.Y_out}}  # outlet\n",
    "\n"
   ]
  },
  {
   "cell_type": "code",
   "execution_count": 4,
   "metadata": {},
   "outputs": [
    {
     "name": "stdout",
     "output_type": "stream",
     "text": [
      "Total volume of tube is:  0.0017349445429449633\n",
      "Flame region volume is:  8.674722714724817e-05\n",
      "Flame Volume:  3.733834609166547e-05\n",
      "Total Volume:  0.0017160020582948803\n"
     ]
    }
   ],
   "source": [
    "radius = 0.047/2\n",
    "\n",
    "L = 1\n",
    "total_volume = np.pi*radius**2*L\n",
    "print(\"Total volume of tube is: \",total_volume)\n",
    "\n",
    "L_flame = params.a_f*2\n",
    "flame_volume = np.pi*radius**2*L_flame\n",
    "print(\"Flame region volume is: \",flame_volume)\n",
    "\n",
    "\n",
    "def calculate_volume_subdomain(mesh, subdomains):\n",
    "    V = dolf.FunctionSpace(mesh, 'CG', 2)\n",
    "    u = dolf.interpolate(dolf.Expression('1',degree = 0), V, )\n",
    "\n",
    "    dV = dolf.Measure('dx', subdomain_data = subdomains)\n",
    "    print(\"Flame Volume: \", dolf.assemble(u*dV(1)))\n",
    "    \n",
    "def calculate_whole_domain(mesh):\n",
    "    volume = dolf.MeshFunction('size_t', mesh, mesh.topology().dim())\n",
    "    V = dolf.FunctionSpace(mesh, 'CG', 2)\n",
    "    u = dolf.interpolate(dolf.Expression('1',degree = 0), V, )\n",
    "    volume.set_all(1)\n",
    "    dV = dolf.Measure('dx', subdomain_data = volume)\n",
    "    print(\"Total Volume: \", dolf.assemble(u*dV(1)))\n",
    "\n",
    "calculate_volume_subdomain(mesh, subdomains)\n",
    "calculate_whole_domain(mesh)"
   ]
  },
  {
   "cell_type": "markdown",
   "metadata": {},
   "source": [
    "\n",
    "lc = 5e-3, "
   ]
  },
  {
   "cell_type": "markdown",
   "metadata": {},
   "source": [
    "| Element size(m) | Flame Region Volume(m3) | Total Volume(m3) | Simulation Time(s)|\n",
    "| 1e-2 | 7.5096e-05 | 0.0017253 | 776.210 \n",
    "| 5e-3 | 6.6265e-05 | 0.0016901 | 15.870 \n",
    "| Stretched | Gaussian | .843 | ---- |"
   ]
  }
 ],
 "metadata": {
  "kernelspec": {
   "display_name": "Python 3",
   "language": "python",
   "name": "python3"
  },
  "language_info": {
   "codemirror_mode": {
    "name": "ipython",
    "version": 3
   },
   "file_extension": ".py",
   "mimetype": "text/x-python",
   "name": "python",
   "nbconvert_exporter": "python",
   "pygments_lexer": "ipython3",
   "version": "3.7.6"
  }
 },
 "nbformat": 4,
 "nbformat_minor": 4
}
