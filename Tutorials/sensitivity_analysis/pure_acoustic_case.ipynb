{
 "cells": [
  {
   "cell_type": "markdown",
   "metadata": {},
   "source": [
    "## BASE SENSITIVITY ANALYSIS"
   ]
  },
  {
   "cell_type": "code",
   "execution_count": 1,
   "metadata": {},
   "outputs": [],
   "source": [
    "import dolfin as dolf\n",
    "from math import pi, sqrt\n",
    "import matplotlib.pyplot as plt\n",
    "import numpy as np\n",
    "\n",
    "from helmholtz_pkg.passive_flame import PassiveFlame\n",
    "from helmholtz_pkg.flame_transfer_function import n_tau\n",
    "from helmholtz_pkg.active_flame import ActiveFlame\n",
    "from helmholtz_pkg.eigensolvers import fixed_point_iteration_pep, pep_solver\n",
    "from helmholtz_pkg.eigenvectors import normalize_eigenvector\n",
    "from helmholtz_pkg.petsc4py_utils import vector_matrix_vector, vector_vector\n",
    "import params"
   ]
  },
  {
   "cell_type": "code",
   "execution_count": 2,
   "metadata": {},
   "outputs": [],
   "source": [
    "plt.rcParams['figure.figsize'] = [11, 4]"
   ]
  },
  {
   "cell_type": "code",
   "execution_count": 3,
   "metadata": {},
   "outputs": [],
   "source": [
    "def mshr(el):\n",
    "\n",
    "    mesh = dolf.UnitIntervalMesh(el)\n",
    "\n",
    "    def l_boundary_func(x, on_boundary):\n",
    "        x = x[0]\n",
    "        return on_boundary and dolf.near(x, 0.)\n",
    "\n",
    "    def r_boundary_func(x, on_boundary):\n",
    "        x = x[0]\n",
    "        return on_boundary and dolf.near(x, 1.)\n",
    "\n",
    "    boundaries = dolf.MeshFunction('size_t', mesh, mesh.topology().dim() - 1)\n",
    "\n",
    "    l_boundary = dolf.AutoSubDomain(l_boundary_func)\n",
    "    r_boundary = dolf.AutoSubDomain(r_boundary_func)\n",
    "\n",
    "    l_boundary.mark(boundaries, 1)\n",
    "    r_boundary.mark(boundaries, 2)\n",
    "\n",
    "    # ________________________________________________________________________________\n",
    "\n",
    "    def fl_subdomain_func(x):\n",
    "        x = x[0]\n",
    "        x_f = params.x_f[0][0]\n",
    "        a_f = params.a_f\n",
    "        return x_f - a_f - dolf.DOLFIN_EPS <= x <= x_f + a_f + dolf.DOLFIN_EPS\n",
    "\n",
    "    subdomains = dolf.MeshFunction('size_t', mesh, mesh.topology().dim())\n",
    "\n",
    "    subdomains.set_all(1)\n",
    "\n",
    "    fl_subdomain = dolf.AutoSubDomain(fl_subdomain_func)\n",
    "    fl_subdomain.mark(subdomains, 0)\n",
    "\n",
    "    return mesh, boundaries, subdomains"
   ]
  },
  {
   "cell_type": "code",
   "execution_count": 4,
   "metadata": {},
   "outputs": [
    {
     "name": "stdout",
     "output_type": "stream",
     "text": [
      "Normalization relation is | p p dx = 1 \n",
      "Normalization relation is | p p dx = 1 \n",
      "(3.429768679672394-0.027128141633017362j) (3.429768679672394-0.027128141633017362j)\n"
     ]
    }
   ],
   "source": [
    "degree = 1\n",
    "\n",
    "mesh, boundaries, subdomains = mshr(400)\n",
    "\n",
    "boundary_conditions = {1: {'Robin': params.Y_in},  # inlet\n",
    "                        2: {'Robin': params.Y_out}}  # outlet\n",
    "\n",
    "foo = PassiveFlame(mesh, boundaries, boundary_conditions,\n",
    "                    c=params.c_,\n",
    "                    degree=degree)\n",
    "foo.assemble_A()\n",
    "foo.assemble_B()\n",
    "foo.assemble_C()\n",
    "\n",
    "E = pep_solver(foo.A, foo.B, foo.C, pi, nev=2)\n",
    "\n",
    "omega_dir, p_dir = normalize_eigenvector(mesh, E, i=1, degree=degree, which='right')\n",
    "omega_adj, p_adj = normalize_eigenvector(mesh, E, i=1, degree=degree, which='left')\n",
    "print(omega_dir, omega_adj)\n",
    "\n",
    "p_dir_r, p_dir_i = p_dir.split()\n",
    "p_adj_r, p_adj_i = p_adj.split()"
   ]
  },
  {
   "cell_type": "code",
   "execution_count": 5,
   "metadata": {},
   "outputs": [
    {
     "name": "stdout",
     "output_type": "stream",
     "text": [
      "(-6.746507245108422+0.0009004262315202571j)\n"
     ]
    }
   ],
   "source": [
    "# BASE STATE SENSITIVITY ------------------------------------------------------------------------------------------\n",
    "\n",
    "p_dir_vec = p_dir.vector().vec()\n",
    "p_adj_vec = p_adj.vector().vec()\n",
    "\n",
    "dLds = foo.B + foo.assemble_zC(2 * omega_dir)\n",
    "\n",
    "denominator = -vector_matrix_vector(p_adj_vec , dLds , p_dir_vec )\n",
    "print(denominator)"
   ]
  },
  {
   "cell_type": "code",
   "execution_count": 6,
   "metadata": {},
   "outputs": [],
   "source": [
    "W = foo.function_space\n",
    "dx = dolf.Measure('dx', domain = mesh)\n",
    "# MATRIX dA\n",
    "(u_1, u_2) = foo.u\n",
    "(v_1, v_2) = foo.v\n",
    "\n",
    "da_11 = -2 * params.c_ * dolf.dot(dolf.grad(v_1), dolf.grad(u_1)) * dx\n",
    "da_22 = -2 * params.c_ * dolf.dot(dolf.grad(v_2), dolf.grad(u_2)) * dx\n",
    "da_ = da_11 + da_22\n"
   ]
  },
  {
   "cell_type": "code",
   "execution_count": 7,
   "metadata": {},
   "outputs": [],
   "source": [
    "dofmap = W.dofmap()\n",
    "ds_dc = np.zeros(mesh.num_vertices()-1,dtype=complex)\n",
    "\n",
    "for i, cell in enumerate(dolf.cells(mesh)):\n",
    "    # Assemble locally the derivative dLdc for the corresponding cell\n",
    "    dLdc = dolf.assemble_local(da_ , cell)\n",
    "    # Finding the dof's indices in the current cell\n",
    "    indices = dofmap.cell_dofs(cell.index())\n",
    "    # Calculating left and right eigenvectors for current cell by using indices\n",
    "    p_left = p_adj.vector()[indices]\n",
    "    p_right = p_dir.vector()[indices]\n",
    "    #print(indices, p_left, p_right)\n",
    "    \n",
    "    # Determine nominator = p_left * dLdc * p_right\n",
    "    nominator = np.matmul(np.transpose(p_left), (np.matmul(dLdc , p_right)))\n",
    "    # Append the result to the numpy array\n",
    "    ds_dc[i] = nominator / denominator\n",
    "\n"
   ]
  },
  {
   "cell_type": "code",
   "execution_count": 8,
   "metadata": {},
   "outputs": [
    {
     "data": {
      "text/plain": [
       "[<matplotlib.lines.Line2D at 0x7f3dcfbf52d0>]"
      ]
     },
     "execution_count": 8,
     "metadata": {},
     "output_type": "execute_result"
    },
    {
     "data": {
      "image/png": "[encoded data removed]",
      "text/plain": [
       "<Figure size 792x288 with 1 Axes>"
      ]
     },
     "metadata": {
      "needs_background": "light"
     },
     "output_type": "display_data"
    }
   ],
   "source": [
    "plt.plot(abs(ds_dc))"
   ]
  },
  {
   "cell_type": "code",
   "execution_count": 9,
   "metadata": {},
   "outputs": [
    {
     "name": "stdout",
     "output_type": "stream",
     "text": [
      "[0.01100522-0.00039727j 0.01083194-0.0003919j  0.01065562-0.00038637j]\n"
     ]
    }
   ],
   "source": [
    "dofmap = foo.function_space.dofmap()\n",
    "ds_dc = np.zeros(mesh.num_vertices()-1,dtype=complex)\n",
    "dL_dc = []\n",
    "for i, cell in enumerate(dolf.cells(mesh)):\n",
    "    # Assemble locally the derivative dLdc for the corresponding cell\n",
    "    dLdc = dolf.assemble_local(da_ , cell)\n",
    "    dL_dc.append(dLdc)\n",
    "    # Finding the dof's indices in the current cell\n",
    "    indices = dofmap.cell_dofs(cell.index())\n",
    "    # Calculating left and right eigenvectors for current cell by using indices\n",
    "    p_left = p_adj.vector()[indices]\n",
    "    p_right = p_dir.vector()[indices]\n",
    "    def real_to_complex(p):\n",
    "        p_r = np.array(p[0:int(len(p)/2)])\n",
    "        p_i = 1j*np.array(p[int(len(p)/2):])\n",
    "        p_c = p_r + p_i\n",
    "        return p_c\n",
    "    p_left = real_to_complex(p_left)\n",
    "    p_right = real_to_complex(p_right)\n",
    "    # Determine nominator = p_left * dLdc * p_right\n",
    "    dLdc = dLdc[0:2,0:2]\n",
    "    nominator = np.dot(np.transpose(p_left), (np.dot(dLdc , p_right)))\n",
    "    # Append the result to the numpy array\n",
    "    ds_dc[i] = nominator / denominator\n",
    "print(ds_dc[78:81])\n"
   ]
  },
  {
   "cell_type": "code",
   "execution_count": 10,
   "metadata": {},
   "outputs": [
    {
     "data": {
      "text/plain": [
       "[<matplotlib.lines.Line2D at 0x7f3dcfada790>]"
      ]
     },
     "execution_count": 10,
     "metadata": {},
     "output_type": "execute_result"
    },
    {
     "data": {
      "image/png": "[encoded data removed]",
      "text/plain": [
       "<Figure size 792x288 with 1 Axes>"
      ]
     },
     "metadata": {
      "needs_background": "light"
     },
     "output_type": "display_data"
    }
   ],
   "source": [
    "plt.plot(np.linspace(0,1,400),ds_dc.imag)"
   ]
  }
 ],
 "metadata": {
  "kernelspec": {
   "display_name": "Python 3",
   "language": "python",
   "name": "python3"
  },
  "language_info": {
   "codemirror_mode": {
    "name": "ipython",
    "version": 3
   },
   "file_extension": ".py",
   "mimetype": "text/x-python",
   "name": "python",
   "nbconvert_exporter": "python",
   "pygments_lexer": "ipython3",
   "version": "3.7.6"
  }
 },
 "nbformat": 4,
 "nbformat_minor": 4
}
