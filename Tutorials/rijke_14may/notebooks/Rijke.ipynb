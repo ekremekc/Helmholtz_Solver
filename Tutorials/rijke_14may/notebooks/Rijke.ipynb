{
 "cells": [
  {
   "cell_type": "code",
   "execution_count": 75,
   "metadata": {},
   "outputs": [],
   "source": [
    "import dolfin as dolf\n",
    "from math import pi\n",
    "from params import *\n",
    "import numpy as np\n",
    "from slepc4py import SLEPc"
   ]
  },
  {
   "cell_type": "code",
   "execution_count": 76,
   "metadata": {},
   "outputs": [],
   "source": [
    "N = 400\n",
    "size_M = (N+1)*2"
   ]
  },
  {
   "cell_type": "code",
   "execution_count": 77,
   "metadata": {},
   "outputs": [],
   "source": [
    "def print_blockform(C):\n",
    "    C = C.getValues(range(size_M), range(size_M))\n",
    "    K = np.zeros_like(C)\n",
    "    for i in range(N+1):\n",
    "        for j in range(N+1):\n",
    "            C_ij = C[2*i:2*i+2,2*j:2*j+2]\n",
    "            K[i, j] = C_ij[0, 0]\n",
    "            K[i, j+N+1] = C_ij[0, 1]\n",
    "            K[i+N+1, j] = C_ij[1, 0]\n",
    "            K[i+N+1, j+N+1] = C_ij[1, 1]\n",
    "    return K"
   ]
  },
  {
   "cell_type": "markdown",
   "metadata": {},
   "source": [
    "Now we define the mesh;\n",
    "\n",
    "The definition of the subdomain and left and right boundaries will be changed.\n"
   ]
  },
  {
   "cell_type": "code",
   "execution_count": 78,
   "metadata": {},
   "outputs": [],
   "source": [
    "def mshr(el):\n",
    "\n",
    "    mesh = dolf.UnitIntervalMesh(el)\n",
    "\n",
    "    def l_boundary_func(x, on_boundary):\n",
    "        x = x[0]\n",
    "        return on_boundary and dolf.near(x, 0.)\n",
    "\n",
    "    def r_boundary_func(x, on_boundary):\n",
    "        x = x[0]\n",
    "        return on_boundary and dolf.near(x, 1.)\n",
    "\n",
    "    boundaries = dolf.MeshFunction('size_t', mesh, mesh.topology().dim() - 1)\n",
    "\n",
    "    l_boundary = dolf.AutoSubDomain(l_boundary_func)\n",
    "    r_boundary = dolf.AutoSubDomain(r_boundary_func)\n",
    "\n",
    "    l_boundary.mark(boundaries, 1)\n",
    "    r_boundary.mark(boundaries, 2)\n",
    "\n",
    "    # ________________________________________________________________________________\n",
    "\n",
    "    def fl_subdomain_func(x):\n",
    "        x = x[0]\n",
    "        x_f = params.x_f[0][0]\n",
    "        a_f = params.a_f\n",
    "        return x_f - a_f - dolf.DOLFIN_EPS <= x <= x_f + a_f + dolf.DOLFIN_EPS\n",
    "\n",
    "    subdomains = dolf.MeshFunction('size_t', mesh, mesh.topology().dim())\n",
    "\n",
    "    subdomains.set_all(1)\n",
    "\n",
    "    fl_subdomain = dolf.AutoSubDomain(fl_subdomain_func)\n",
    "    fl_subdomain.mark(subdomains, 0)\n",
    "\n",
    "    return mesh, boundaries, subdomains"
   ]
  },
  {
   "cell_type": "code",
   "execution_count": 79,
   "metadata": {},
   "outputs": [
    {
     "data": {
      "text/plain": [
       "[<matplotlib.lines.Line2D at 0x7fdbd0a3de90>]"
      ]
     },
     "execution_count": 79,
     "metadata": {},
     "output_type": "execute_result"
    },
    {
     "data": {
      "image/png": "[encoded data removed]",
      "text/plain": [
       "<Figure size 432x288 with 1 Axes>"
      ]
     },
     "metadata": {
      "needs_background": "light"
     },
     "output_type": "display_data"
    }
   ],
   "source": [
    "mesh, boundaries, subdomains = mshr(N)\n",
    "dolf.plot(mesh)"
   ]
  },
  {
   "cell_type": "code",
   "execution_count": 80,
   "metadata": {},
   "outputs": [],
   "source": [
    "boundary_conditions = {1: {'Robin': params.Y_in},  # inlet\n",
    "                           2: {'Robin': params.Y_out}}  # outlet"
   ]
  },
  {
   "cell_type": "code",
   "execution_count": 81,
   "metadata": {},
   "outputs": [],
   "source": [
    "degree = 1\n",
    "c = params.c\n",
    "constrained_domain=None"
   ]
  },
  {
   "cell_type": "markdown",
   "metadata": {},
   "source": [
    "Now we will do Passive Flame Case Calculations;"
   ]
  },
  {
   "cell_type": "code",
   "execution_count": 82,
   "metadata": {},
   "outputs": [],
   "source": [
    "dx = dolf.Measure('dx', domain=mesh)\n",
    "ds = dolf.Measure('ds', domain=mesh, subdomain_data=boundaries)\n",
    "\n",
    "CG = dolf.FiniteElement('CG', mesh.ufl_cell(), degree)\n",
    "W = dolf.FunctionSpace(mesh, CG * CG, constrained_domain=constrained_domain)\n",
    "\n",
    "function_space = W  #\n",
    "u = dolf.TrialFunction(W)\n",
    "v = dolf.TestFunction(W)\n",
    "\n",
    "bcs = []\n",
    "\n",
    "for i in boundary_conditions:\n",
    "    if 'Dirichlet' in boundary_conditions[i]:\n",
    "        for j in range(2):\n",
    "            bc = dolf.DirichletBC(W.sub(j), 0.0, boundaries, i)\n",
    "            bcs.append(bc)"
   ]
  },
  {
   "cell_type": "markdown",
   "metadata": {},
   "source": [
    "## MATRIX A AND ITS ASSEMBLY"
   ]
  },
  {
   "cell_type": "code",
   "execution_count": 83,
   "metadata": {},
   "outputs": [
    {
     "data": {
      "text/plain": [
       "array([[ -574.11764706,   574.11764706,     0.        , ...,\n",
       "            0.        ,     0.        ,     0.        ],\n",
       "       [  574.11764706, -1148.23529412,   574.11764706, ...,\n",
       "            0.        ,     0.        ,     0.        ],\n",
       "       [    0.        ,   574.11764706, -1148.23529412, ...,\n",
       "            0.        ,     0.        ,     0.        ],\n",
       "       ...,\n",
       "       [    0.        ,     0.        ,     0.        , ...,\n",
       "         -800.        ,   400.        ,     0.        ],\n",
       "       [    0.        ,     0.        ,     0.        , ...,\n",
       "          400.        ,  -800.        ,   400.        ],\n",
       "       [    0.        ,     0.        ,     0.        , ...,\n",
       "            0.        ,   400.        ,  -400.        ]])"
      ]
     },
     "execution_count": 83,
     "metadata": {},
     "output_type": "execute_result"
    }
   ],
   "source": [
    "(u_1, u_2) = u\n",
    "(v_1, v_2) = v\n",
    "\n",
    "a_11 = - c ** 2 * dolf.dot(dolf.grad(v_1), dolf.grad(u_1)) * dx\n",
    "a_22 = - c ** 2 * dolf.dot(dolf.grad(v_2), dolf.grad(u_2)) * dx\n",
    "a_ = a_11 + a_22\n",
    "\n",
    "dummy = (v_1 + v_2) * dx\n",
    "\n",
    "A, b = dolf.assemble_system(a_, dummy, bcs)\n",
    "A = dolf.as_backend_type(A).mat()\n",
    "print_blockform(A)"
   ]
  },
  {
   "cell_type": "markdown",
   "metadata": {},
   "source": [
    "## MATRIX B AND ITS ASSEMBLY"
   ]
  },
  {
   "cell_type": "code",
   "execution_count": 84,
   "metadata": {},
   "outputs": [
    {
     "name": "stdout",
     "output_type": "stream",
     "text": [
      "802 802\n"
     ]
    }
   ],
   "source": [
    "(u_1, u_2) = u\n",
    "(v_1, v_2) = v\n",
    "\n",
    "N = function_space.dim()  # global size\n",
    "istart, iend = function_space.dofmap().ownership_range()\n",
    "n = iend - istart  # local size\n",
    "print(N,n)"
   ]
  },
  {
   "cell_type": "code",
   "execution_count": 85,
   "metadata": {
    "scrolled": true
   },
   "outputs": [
    {
     "data": {
      "text/plain": [
       "array([[-38.33720356, -17.97056417,  -0.        , ...,   0.        ,\n",
       "          0.        ,   0.        ],\n",
       "       [ 17.97056417, -38.33720356,   0.        , ...,   0.        ,\n",
       "          0.        ,   0.        ],\n",
       "       [ -0.        ,  -0.        ,  -0.        , ...,   0.        ,\n",
       "          0.        ,   0.        ],\n",
       "       ...,\n",
       "       [  0.        ,   0.        ,   0.        , ...,  -0.        ,\n",
       "          0.        ,  -0.        ],\n",
       "       [  0.        ,   0.        ,   0.        , ...,  -0.        ,\n",
       "        -32.        , -15.        ],\n",
       "       [  0.        ,   0.        ,   0.        , ...,  -0.        ,\n",
       "         15.        , -32.        ]])"
      ]
     },
     "execution_count": 85,
     "metadata": {},
     "output_type": "execute_result"
    }
   ],
   "source": [
    "integrals_R = []\n",
    "\n",
    "for i in boundary_conditions:\n",
    "    if 'Robin' in boundary_conditions[i]:\n",
    "\n",
    "        Y = boundary_conditions[i]['Robin']\n",
    "        Y_r, Y_i = Y.real, Y.imag\n",
    "\n",
    "        b_11 = - Y_i * c * v_1 * u_1 * ds(i)\n",
    "        b_12 = - Y_r * c * v_1 * u_2 * ds(i)\n",
    "        b_21 = + Y_r * c * v_2 * u_1 * ds(i)\n",
    "        b_22 = - Y_i * c * v_2 * u_2 * ds(i)\n",
    "\n",
    "        b_ = b_11 + b_12 + b_21 + b_22\n",
    "\n",
    "        integrals_R.append(b_)\n",
    "\n",
    "if integrals_R:\n",
    "\n",
    "    b_ = sum(integrals_R)\n",
    "    B = dolf.assemble(b_)\n",
    "    B = dolf.as_backend_type(B).mat()\n",
    "\n",
    "else:\n",
    "\n",
    "    B = PETSc.Mat().create()\n",
    "    B.setSizes([(n, N), (n, N)])\n",
    "    B.setFromOptions()\n",
    "    B.setUp()\n",
    "    B.assemble()\n",
    "\n",
    "B.getValues(range(size_M), range(size_M))"
   ]
  },
  {
   "cell_type": "markdown",
   "metadata": {},
   "source": [
    "## ASSEMBLY OF C"
   ]
  },
  {
   "cell_type": "code",
   "execution_count": 86,
   "metadata": {},
   "outputs": [
    {
     "data": {
      "text/plain": [
       "array([[0.00083333, 0.        , 0.00041667, ..., 0.        , 0.        ,\n",
       "        0.        ],\n",
       "       [0.        , 0.00083333, 0.        , ..., 0.        , 0.        ,\n",
       "        0.        ],\n",
       "       [0.00041667, 0.        , 0.00166667, ..., 0.        , 0.        ,\n",
       "        0.        ],\n",
       "       ...,\n",
       "       [0.        , 0.        , 0.        , ..., 0.00166667, 0.        ,\n",
       "        0.00041667],\n",
       "       [0.        , 0.        , 0.        , ..., 0.        , 0.00083333,\n",
       "        0.        ],\n",
       "       [0.        , 0.        , 0.        , ..., 0.00041667, 0.        ,\n",
       "        0.00083333]])"
      ]
     },
     "execution_count": 86,
     "metadata": {},
     "output_type": "execute_result"
    }
   ],
   "source": [
    "(u_1, u_2) = u\n",
    "(v_1, v_2) = v\n",
    "\n",
    "c_11 = v_1 * u_1 * dx\n",
    "c_22 = v_2 * u_2 * dx\n",
    "c_   = c_11 + c_22\n",
    "\n",
    "dummy = (v_1 + v_2) * dx\n",
    "\n",
    "C, b = dolf.assemble_system(c_, dummy, bcs)\n",
    "[bc.zero(C) for bc in bcs]\n",
    "C = dolf.as_backend_type(C).mat()\n",
    "C.getValues(range(size_M), range(size_M))"
   ]
  },
  {
   "cell_type": "markdown",
   "metadata": {},
   "source": [
    "## PEP SOLVER"
   ]
  },
  {
   "cell_type": "code",
   "execution_count": 87,
   "metadata": {},
   "outputs": [],
   "source": [
    "target = np.pi\n",
    "nev = 1"
   ]
  },
  {
   "cell_type": "code",
   "execution_count": 88,
   "metadata": {},
   "outputs": [],
   "source": [
    "E = SLEPc.PEP().create()\n",
    "\n",
    "operators = [A, B, C]\n",
    "E.setOperators(operators)\n",
    "\n",
    "# Q.setProblemType(SLEPc.PEP.ProblemType.GENERAL)\n",
    "\n",
    "# spectral transformation\n",
    "st = E.getST()\n",
    "st.setType('sinvert')\n",
    "\n",
    "E.setTarget(target)\n",
    "E.setWhichEigenpairs(SLEPc.PEP.Which.TARGET_MAGNITUDE)  # TARGET_REAL or TARGET_IMAGINARY\n",
    "\n",
    "E.setDimensions(nev, SLEPc.DECIDE)\n",
    "E.setTolerances(1e-15)\n",
    "E.setFromOptions()\n",
    "\n",
    "E.solve()"
   ]
  },
  {
   "cell_type": "code",
   "execution_count": 89,
   "metadata": {},
   "outputs": [],
   "source": [
    "params.n = 0.16138844387770282"
   ]
  },
  {
   "cell_type": "markdown",
   "metadata": {},
   "source": [
    "## ACTIVE FLAME"
   ]
  },
  {
   "cell_type": "code",
   "execution_count": 90,
   "metadata": {},
   "outputs": [],
   "source": [
    "def n_tau(N3, tau):\n",
    "    \"\"\"\n",
    "    :param N3: non-dimensional interaction index\n",
    "    :param tau: time delay [s]\n",
    "    :return: function\n",
    "    \"\"\"\n",
    "    def inner_func(omega, k=0):\n",
    "        return N3 * (1j * tau)**k * np.exp(1j * omega * tau)\n",
    "    return inner_func\n",
    "\n",
    "ftf = n_tau(params.n, params.tau)"
   ]
  },
  {
   "cell_type": "code",
   "execution_count": 96,
   "metadata": {},
   "outputs": [],
   "source": [
    "gamma = 1.4\n",
    "comm = None\n",
    "\n",
    "mesh = mesh\n",
    "subdomains = subdomains\n",
    "x_f = params.x_f\n",
    "x_r = np.array([[0.2, 0. , 0. ]])\n",
    "rho_u = params.rho_in\n",
    "FTF = ftf\n",
    "degree = degree\n",
    "\n",
    "coeff = (gamma - 1) / rho_u * 1. / 1."
   ]
  },
  {
   "cell_type": "code",
   "execution_count": null,
   "metadata": {},
   "outputs": [],
   "source": [
    "CG = dolf.FiniteElement('CG', mesh.ufl_cell(), degree)\n",
    "W = dolf.FunctionSpace(mesh, dolf.MixedElement([CG, CG]), constrained_domain=constrained_domain)\n",
    "\n",
    "function_space = W"
   ]
  },
  {
   "cell_type": "code",
   "execution_count": 98,
   "metadata": {},
   "outputs": [],
   "source": [
    "def _helper_func(v, dofmap):\n",
    "        indices = np.flatnonzero(v)\n",
    "        values = v[indices]\n",
    "        my_list = []\n",
    "        for index, value in zip(indices, values):\n",
    "            my_list.append([dofmap.dofs()[index], value])\n",
    "        v = np.array(my_list)\n",
    "        return v"
   ]
  },
  {
   "cell_type": "markdown",
   "metadata": {},
   "source": [
    "### ASSEMBLE LEFT EIGENVECTOR"
   ]
  },
  {
   "cell_type": "code",
   "execution_count": 100,
   "metadata": {},
   "outputs": [],
   "source": [
    "def assemble_left_vector(fl):\n",
    "    (v_1, v_2) = dolf.TestFunction(function_space)\n",
    "    dx = dolf.Measure('dx', subdomain_data=subdomains)\n",
    "\n",
    "    V = dolf.FunctionSpace(mesh, 'CG', 1)\n",
    "    const = dolf.interpolate(dolf.Constant(1), V)\n",
    "    V_fl = dolf.assemble(const * dx(fl))\n",
    "\n",
    "    a_1 = dolf.assemble(v_1 / V_fl * dx(fl))\n",
    "    a_2 = dolf.assemble(v_2 / V_fl * dx(fl))\n",
    "\n",
    "    dofmap = function_space.dofmap()\n",
    "\n",
    "    a_1 = _helper_func(a_1, dofmap)\n",
    "    a_2 = _helper_func(a_2, dofmap)\n",
    "\n",
    "    a = (a_1, a_2)\n",
    "    \n",
    "    return a"
   ]
  },
  {
   "cell_type": "markdown",
   "metadata": {},
   "source": [
    "### ASSEMBLE RIGHT EIGENVECTOR"
   ]
  },
  {
   "cell_type": "code",
   "execution_count": 109,
   "metadata": {},
   "outputs": [],
   "source": [
    "def assemble_right_vector(x):    \n",
    "    v = np.array([[0, 0, 1]])  # row\n",
    "    dimension = mesh.geometric_dimension()\n",
    "    if dimension == 1:\n",
    "        v = np.array([[1]])\n",
    "    elif dimension == 2:\n",
    "        v = np.array([[1, 0]])\n",
    "    # else:  # elif dimension == 3:\n",
    "    #     pass\n",
    "    v = v.transpose()  # column\n",
    "\n",
    "    b = [np.array([]), np.array([])]\n",
    "\n",
    "    cell_index = mesh.bounding_box_tree().compute_first_entity_collision(dolf.Point(*x))\n",
    "\n",
    "    if cell_index <= mesh.num_entities(mesh.topology().dim()):\n",
    "\n",
    "        cell = dolf.Cell(mesh, cell_index)\n",
    "\n",
    "        b = []\n",
    "\n",
    "        for j in range(2):\n",
    "\n",
    "            dofmap = function_space.sub(j).dofmap()\n",
    "            cell_dofs = dofmap.cell_dofs(cell_index)\n",
    "\n",
    "            element = function_space.sub(j).element()\n",
    "            d_dx = element.evaluate_basis_derivatives_all(1, x, cell.get_vertex_coordinates(), cell.orientation())\n",
    "\n",
    "            d_dx = d_dx.reshape((len(cell_dofs), -1))\n",
    "\n",
    "            d_dv = np.dot(d_dx, v)\n",
    "            d_dv = d_dv[:, 0]\n",
    "\n",
    "            my_list = []\n",
    "\n",
    "            for i, dof in enumerate(cell_dofs):\n",
    "                my_list.append([dofmap.tabulate_local_to_global_dofs()[dof], d_dv[i]])\n",
    "\n",
    "            my_vec = np.array(my_list)\n",
    "\n",
    "            b.append(my_vec)\n",
    "        #\n",
    "        # else:\n",
    "        #\n",
    "        #     pass\n",
    "\n",
    "    return (*b, )"
   ]
  },
  {
   "cell_type": "code",
   "execution_count": 114,
   "metadata": {},
   "outputs": [
    {
     "name": "stdout",
     "output_type": "stream",
     "text": [
      "left vector done\n",
      "right vector done\n"
     ]
    }
   ],
   "source": [
    "for fl, x in enumerate(x_r):\n",
    "    a = assemble_left_vector(fl)\n",
    "    print(\"left vector done\")\n",
    "    b = assemble_right_vector(x)\n",
    "    print(\"right vector done\")"
   ]
  },
  {
   "cell_type": "markdown",
   "metadata": {},
   "source": [
    "### ASSEMBLING SUBMATRICES"
   ]
  },
  {
   "cell_type": "code",
   "execution_count": 116,
   "metadata": {},
   "outputs": [],
   "source": [
    "def csr_matrix(a, b):\n",
    "\n",
    "    # len(a) and len(b) are not the same\n",
    "\n",
    "    nnz = len(a) * len(b)\n",
    "\n",
    "    row = np.zeros(nnz)\n",
    "    col = np.zeros(nnz)\n",
    "    val = np.zeros(nnz)\n",
    "\n",
    "    for i, c in enumerate(a):\n",
    "        for j, d in enumerate(b):\n",
    "            row[i * len(b) + j] = c[0]\n",
    "            col[i * len(b) + j] = d[0]\n",
    "            val[i * len(b) + j] = c[1] * d[1]\n",
    "\n",
    "    row = row.astype(dtype='int32')\n",
    "    col = col.astype(dtype='int32')\n",
    "\n",
    "    return row, col, val"
   ]
  },
  {
   "cell_type": "code",
   "execution_count": 125,
   "metadata": {},
   "outputs": [],
   "source": [
    "def assemble_submatrices(problem_type='direct'):\n",
    "\n",
    "    num_fl = len(x_f)  # number of flames\n",
    "    global_size = function_space.dim()\n",
    "    local_size = len(function_space.dofmap().dofs())\n",
    "\n",
    "    D_kj = dict()\n",
    "\n",
    "    for k in range(2):\n",
    "        for j in range(2):\n",
    "\n",
    "            row = dict()\n",
    "            col = dict()\n",
    "            val = dict()\n",
    "\n",
    "            for fl in range(num_fl):\n",
    "\n",
    "                u = None\n",
    "                v = None\n",
    "\n",
    "                if problem_type == 'direct':\n",
    "                    u = a[str(fl)][k]  # column vector\n",
    "                    v = b[str(fl)][j]  # row vector\n",
    "\n",
    "                elif problem_type == 'adjoint':\n",
    "                    u = b[str(fl)][k]\n",
    "                    v = a[str(fl)][j]\n",
    "\n",
    "                row[str(fl)], col[str(fl)], val[str(fl)] = csr_matrix(u, v)\n",
    "\n",
    "            row = np.concatenate([row[str(fl)] for fl in range(num_fl)])\n",
    "            col = np.concatenate([col[str(fl)] for fl in range(num_fl)])\n",
    "            val = np.concatenate([val[str(fl)] for fl in range(num_fl)])\n",
    "\n",
    "            i = np.argsort(row)\n",
    "\n",
    "            row = row[i]\n",
    "            col = col[i]\n",
    "            val = val[i]\n",
    "\n",
    "            indptr = np.bincount(row, minlength=local_size)\n",
    "            indptr = np.insert(indptr, 0, 0).cumsum()\n",
    "            indptr = indptr.astype(dtype='int32')\n",
    "\n",
    "            mat = PETSc.Mat().create(comm=comm)\n",
    "            mat.setSizes([(local_size, global_size), (local_size, global_size)])\n",
    "            mat.setType('aij')\n",
    "            mat.setUp()\n",
    "\n",
    "            mat.setValuesCSR(indptr, col, val)\n",
    "            mat.assemblyBegin()\n",
    "            mat.assemblyEnd()\n",
    "\n",
    "            D_kj['{0}{1}'.format(k + 1, j + 1)] = mat\n",
    "    if problem_type == 'direct':\n",
    "        return (D_kj['11'], D_kj['12'], D_kj['21'], D_kj['22'])\n",
    "    elif problem_type == 'adjoint':\n",
    "        return (D_kj['11'], D_kj['12'], D_kj['21'], D_kj['22'])"
   ]
  },
  {
   "cell_type": "code",
   "execution_count": 124,
   "metadata": {},
   "outputs": [
    {
     "ename": "IndexError",
     "evalue": "invalid index to scalar variable.",
     "output_type": "error",
     "traceback": [
      "\u001b[0;31m---------------------------------------------------------------------------\u001b[0m",
      "\u001b[0;31mIndexError\u001b[0m                                Traceback (most recent call last)",
      "\u001b[0;32m<ipython-input-124-883af01b29ad>\u001b[0m in \u001b[0;36m<module>\u001b[0;34m\u001b[0m\n\u001b[0;32m----> 1\u001b[0;31m \u001b[0mD\u001b[0m \u001b[0;34m=\u001b[0m \u001b[0massemble_submatrices\u001b[0m\u001b[0;34m(\u001b[0m\u001b[0mproblem_type\u001b[0m\u001b[0;34m=\u001b[0m\u001b[0;34m'direct'\u001b[0m\u001b[0;34m)\u001b[0m\u001b[0;34m\u001b[0m\u001b[0;34m\u001b[0m\u001b[0m\n\u001b[0m",
      "\u001b[0;32m<ipython-input-123-0e66aedbe6fa>\u001b[0m in \u001b[0;36massemble_submatrices\u001b[0;34m(problem_type)\u001b[0m\n\u001b[1;32m     27\u001b[0m                     \u001b[0mv\u001b[0m \u001b[0;34m=\u001b[0m \u001b[0ma\u001b[0m\u001b[0;34m[\u001b[0m\u001b[0mfl\u001b[0m\u001b[0;34m]\u001b[0m\u001b[0;34m[\u001b[0m\u001b[0mj\u001b[0m\u001b[0;34m]\u001b[0m\u001b[0;34m\u001b[0m\u001b[0;34m\u001b[0m\u001b[0m\n\u001b[1;32m     28\u001b[0m \u001b[0;34m\u001b[0m\u001b[0m\n\u001b[0;32m---> 29\u001b[0;31m                 \u001b[0mrow\u001b[0m\u001b[0;34m[\u001b[0m\u001b[0mfl\u001b[0m\u001b[0;34m]\u001b[0m\u001b[0;34m,\u001b[0m \u001b[0mcol\u001b[0m\u001b[0;34m[\u001b[0m\u001b[0mfl\u001b[0m\u001b[0;34m]\u001b[0m\u001b[0;34m,\u001b[0m \u001b[0mval\u001b[0m\u001b[0;34m[\u001b[0m\u001b[0mfl\u001b[0m\u001b[0;34m]\u001b[0m \u001b[0;34m=\u001b[0m \u001b[0mcsr_matrix\u001b[0m\u001b[0;34m(\u001b[0m\u001b[0mu\u001b[0m\u001b[0;34m,\u001b[0m \u001b[0mv\u001b[0m\u001b[0;34m)\u001b[0m\u001b[0;34m\u001b[0m\u001b[0;34m\u001b[0m\u001b[0m\n\u001b[0m\u001b[1;32m     30\u001b[0m \u001b[0;34m\u001b[0m\u001b[0m\n\u001b[1;32m     31\u001b[0m             \u001b[0mrow\u001b[0m \u001b[0;34m=\u001b[0m \u001b[0mnp\u001b[0m\u001b[0;34m.\u001b[0m\u001b[0mconcatenate\u001b[0m\u001b[0;34m(\u001b[0m\u001b[0;34m[\u001b[0m\u001b[0mrow\u001b[0m\u001b[0;34m[\u001b[0m\u001b[0mfl\u001b[0m\u001b[0;34m]\u001b[0m \u001b[0;32mfor\u001b[0m \u001b[0mfl\u001b[0m \u001b[0;32min\u001b[0m \u001b[0mrange\u001b[0m\u001b[0;34m(\u001b[0m\u001b[0mnum_fl\u001b[0m\u001b[0;34m)\u001b[0m\u001b[0;34m]\u001b[0m\u001b[0;34m)\u001b[0m\u001b[0;34m\u001b[0m\u001b[0;34m\u001b[0m\u001b[0m\n",
      "\u001b[0;32m<ipython-input-116-d7dc1bab457e>\u001b[0m in \u001b[0;36mcsr_matrix\u001b[0;34m(a, b)\u001b[0m\n\u001b[1;32m     11\u001b[0m     \u001b[0;32mfor\u001b[0m \u001b[0mi\u001b[0m\u001b[0;34m,\u001b[0m \u001b[0mc\u001b[0m \u001b[0;32min\u001b[0m \u001b[0menumerate\u001b[0m\u001b[0;34m(\u001b[0m\u001b[0ma\u001b[0m\u001b[0;34m)\u001b[0m\u001b[0;34m:\u001b[0m\u001b[0;34m\u001b[0m\u001b[0;34m\u001b[0m\u001b[0m\n\u001b[1;32m     12\u001b[0m         \u001b[0;32mfor\u001b[0m \u001b[0mj\u001b[0m\u001b[0;34m,\u001b[0m \u001b[0md\u001b[0m \u001b[0;32min\u001b[0m \u001b[0menumerate\u001b[0m\u001b[0;34m(\u001b[0m\u001b[0mb\u001b[0m\u001b[0;34m)\u001b[0m\u001b[0;34m:\u001b[0m\u001b[0;34m\u001b[0m\u001b[0;34m\u001b[0m\u001b[0m\n\u001b[0;32m---> 13\u001b[0;31m             \u001b[0mrow\u001b[0m\u001b[0;34m[\u001b[0m\u001b[0mi\u001b[0m \u001b[0;34m*\u001b[0m \u001b[0mlen\u001b[0m\u001b[0;34m(\u001b[0m\u001b[0mb\u001b[0m\u001b[0;34m)\u001b[0m \u001b[0;34m+\u001b[0m \u001b[0mj\u001b[0m\u001b[0;34m]\u001b[0m \u001b[0;34m=\u001b[0m \u001b[0mc\u001b[0m\u001b[0;34m[\u001b[0m\u001b[0;36m0\u001b[0m\u001b[0;34m]\u001b[0m\u001b[0;34m\u001b[0m\u001b[0;34m\u001b[0m\u001b[0m\n\u001b[0m\u001b[1;32m     14\u001b[0m             \u001b[0mcol\u001b[0m\u001b[0;34m[\u001b[0m\u001b[0mi\u001b[0m \u001b[0;34m*\u001b[0m \u001b[0mlen\u001b[0m\u001b[0;34m(\u001b[0m\u001b[0mb\u001b[0m\u001b[0;34m)\u001b[0m \u001b[0;34m+\u001b[0m \u001b[0mj\u001b[0m\u001b[0;34m]\u001b[0m \u001b[0;34m=\u001b[0m \u001b[0md\u001b[0m\u001b[0;34m[\u001b[0m\u001b[0;36m0\u001b[0m\u001b[0;34m]\u001b[0m\u001b[0;34m\u001b[0m\u001b[0;34m\u001b[0m\u001b[0m\n\u001b[1;32m     15\u001b[0m             \u001b[0mval\u001b[0m\u001b[0;34m[\u001b[0m\u001b[0mi\u001b[0m \u001b[0;34m*\u001b[0m \u001b[0mlen\u001b[0m\u001b[0;34m(\u001b[0m\u001b[0mb\u001b[0m\u001b[0;34m)\u001b[0m \u001b[0;34m+\u001b[0m \u001b[0mj\u001b[0m\u001b[0;34m]\u001b[0m \u001b[0;34m=\u001b[0m \u001b[0mc\u001b[0m\u001b[0;34m[\u001b[0m\u001b[0;36m1\u001b[0m\u001b[0;34m]\u001b[0m \u001b[0;34m*\u001b[0m \u001b[0md\u001b[0m\u001b[0;34m[\u001b[0m\u001b[0;36m1\u001b[0m\u001b[0;34m]\u001b[0m\u001b[0;34m\u001b[0m\u001b[0;34m\u001b[0m\u001b[0m\n",
      "\u001b[0;31mIndexError\u001b[0m: invalid index to scalar variable."
     ]
    }
   ],
   "source": [
    "D = assemble_submatrices(problem_type='direct')"
   ]
  },
  {
   "cell_type": "markdown",
   "metadata": {},
   "source": [
    "## NORMALIZATION OF EIGENVECTORS"
   ]
  },
  {
   "cell_type": "code",
   "execution_count": null,
   "metadata": {},
   "outputs": [],
   "source": [
    "\n",
    "omega = 0.\n",
    "A = E.getOperators()[0]\n",
    "vr, vi = A.createVecs()\n",
    "\n",
    "eig = E.getEigenpair(1, vr, vi)\n",
    "omega = eig\n",
    "omega\n"
   ]
  },
  {
   "cell_type": "code",
   "execution_count": null,
   "metadata": {},
   "outputs": [],
   "source": [
    "V = dolf.FunctionSpace(mesh, \"CG\", degree, constrained_domain=constrained_domain)\n",
    "CG = dolf.FiniteElement(\"CG\", mesh.ufl_cell(), degree)\n",
    "W = dolf.FunctionSpace(mesh, dolf.MixedElement([CG, CG]), constrained_domain=constrained_domain)\n",
    "\n",
    "vr_1 = vr.getArray()[0::2]\n",
    "vr_2 = vr.getArray()[1::2]\n",
    "vi_1 = vi.getArray()[0::2]\n",
    "vi_2 = vi.getArray()[1::2]\n",
    "\n",
    "x = vr_1 - vi_2 + 1j * (vr_2 + vi_1)\n",
    "\n",
    "x_r = x.real\n",
    "x_i = x.imag\n",
    "\n",
    "p_r = dolf.Function(V)\n",
    "p_i = dolf.Function(V)\n",
    "\n",
    "p_r.vector().set_local(x_r)\n",
    "p_r.vector().apply('insert')\n",
    "p_i.vector().set_local(x_i)\n",
    "p_i.vector().apply('insert')\n",
    "\n",
    "dx = dolf.Measure('dx')\n",
    "meas = dolf.assemble((p_r * p_r + p_i * p_i) * dx)\n",
    "meas = np.sqrt(meas)\n",
    "# print(meas)\n",
    "\n",
    "x /= meas\n",
    "\n",
    "x_r = x.real\n",
    "x_i = x.imag\n",
    "\n",
    "# p_r.vector().set_local(x_r)\n",
    "# p_r.vector().apply('insert')\n",
    "# p_i.vector().set_local(x_i)\n",
    "# p_i.vector().apply('insert')\n",
    "#\n",
    "# meas = dolf.assemble((p_r * p_r + p_i * p_i) * dx)\n",
    "# meas = np.sqrt(meas)\n",
    "# # print(meas)\n",
    "\n",
    "x = vr.copy()\n",
    "\n",
    "istart, iend = x.getOwnershipRange()\n",
    "\n",
    "x[istart:iend:2] = x_r\n",
    "x[istart+1:iend+1:2] = x_i\n",
    "\n",
    "p = dolf.Function(W)\n",
    "p.vector().set_local(x.getArray())\n",
    "p.vector().apply('insert')"
   ]
  },
  {
   "cell_type": "code",
   "execution_count": null,
   "metadata": {},
   "outputs": [],
   "source": [
    "p_r, p_i = p.split(True)\n",
    "dolf.plot(p_r)"
   ]
  },
  {
   "cell_type": "code",
   "execution_count": null,
   "metadata": {},
   "outputs": [],
   "source": [
    "dolf.plot(p_i)"
   ]
  },
  {
   "cell_type": "code",
   "execution_count": null,
   "metadata": {},
   "outputs": [],
   "source": []
  }
 ],
 "metadata": {
  "kernelspec": {
   "display_name": "Python 3",
   "language": "python",
   "name": "python3"
  },
  "language_info": {
   "codemirror_mode": {
    "name": "ipython",
    "version": 3
   },
   "file_extension": ".py",
   "mimetype": "text/x-python",
   "name": "python",
   "nbconvert_exporter": "python",
   "pygments_lexer": "ipython3",
   "version": "3.7.6"
  }
 },
 "nbformat": 4,
 "nbformat_minor": 4
}
