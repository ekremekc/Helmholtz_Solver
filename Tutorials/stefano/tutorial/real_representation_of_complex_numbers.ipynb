{
 "cells": [
  {
   "cell_type": "code",
   "execution_count": 12,
   "metadata": {},
   "outputs": [],
   "source": [
    "import dolfin as dolf\n",
    "import numpy as np"
   ]
  },
  {
   "cell_type": "code",
   "execution_count": 13,
   "metadata": {},
   "outputs": [],
   "source": [
    "np.set_printoptions(precision=3)"
   ]
  },
  {
   "cell_type": "code",
   "execution_count": 14,
   "metadata": {},
   "outputs": [],
   "source": [
    "# Example for the stiffness matrix C\n",
    "# f_1 for real numbers and f_2 for complex numbers\n",
    "# We don't apply boundary conditions"
   ]
  },
  {
   "cell_type": "code",
   "execution_count": 15,
   "metadata": {},
   "outputs": [],
   "source": [
    "def f_1():\n",
    "    \n",
    "    mesh = dolf.UnitIntervalMesh(2)\n",
    "    \n",
    "    V = dolf.FunctionSpace(mesh, 'CG', 1)\n",
    "\n",
    "    u = dolf.TrialFunction(V)\n",
    "    v = dolf.TestFunction(V)\n",
    "\n",
    "    dx = dolf.Measure('dx', domain=mesh)\n",
    "\n",
    "    bcs = []\n",
    "    \n",
    "    c_ = u * v * dx\n",
    "    dummy = v * dx\n",
    "\n",
    "    C, b = dolf.assemble_system(c_, dummy, bcs)\n",
    "    C = dolf.as_backend_type(C).mat()\n",
    "    \n",
    "    return C"
   ]
  },
  {
   "cell_type": "code",
   "execution_count": 16,
   "metadata": {},
   "outputs": [],
   "source": [
    "def f_2():\n",
    "\n",
    "    mesh = dolf.UnitIntervalMesh(2)\n",
    "\n",
    "    CG = dolf.FiniteElement('CG', mesh.ufl_cell(), 1)\n",
    "    W = dolf.FunctionSpace(mesh, dolf.MixedElement([CG, CG]))\n",
    "\n",
    "    (u_1, u_2) = dolf.TrialFunction(W)\n",
    "    (v_1, v_2) = dolf.TestFunction(W)\n",
    "\n",
    "    dx = dolf.Measure('dx', domain=mesh)\n",
    "\n",
    "    bcs = []\n",
    "\n",
    "    c_11 = v_1 * u_1 * dx\n",
    "    c_22 = v_2 * u_2 * dx\n",
    "    c_ = c_11 + c_22\n",
    "    dummy = (v_1 + v_2) * dx\n",
    "\n",
    "    C, b = dolf.assemble_system(c_, dummy, bcs)\n",
    "    C = dolf.as_backend_type(C).mat()\n",
    "    \n",
    "    return C"
   ]
  },
  {
   "cell_type": "code",
   "execution_count": 17,
   "metadata": {},
   "outputs": [
    {
     "data": {
      "text/plain": [
       "array([[0.167, 0.083, 0.   ],\n",
       "       [0.083, 0.333, 0.083],\n",
       "       [0.   , 0.083, 0.167]])"
      ]
     },
     "execution_count": 17,
     "metadata": {},
     "output_type": "execute_result"
    }
   ],
   "source": [
    "C = f_1()  # 3x3 matrix\n",
    "C.getValues(range(3), range(3))"
   ]
  },
  {
   "cell_type": "code",
   "execution_count": 18,
   "metadata": {},
   "outputs": [
    {
     "data": {
      "text/plain": [
       "array([[0.167, 0.   , 0.083, 0.   , 0.   , 0.   ],\n",
       "       [0.   , 0.167, 0.   , 0.083, 0.   , 0.   ],\n",
       "       [0.083, 0.   , 0.333, 0.   , 0.083, 0.   ],\n",
       "       [0.   , 0.083, 0.   , 0.333, 0.   , 0.083],\n",
       "       [0.   , 0.   , 0.083, 0.   , 0.167, 0.   ],\n",
       "       [0.   , 0.   , 0.   , 0.083, 0.   , 0.167]])"
      ]
     },
     "execution_count": 18,
     "metadata": {},
     "output_type": "execute_result"
    }
   ],
   "source": [
    "C = f_2()  # 6x6 matrix\n",
    "C.getValues(range(6), range(6))"
   ]
  },
  {
   "cell_type": "code",
   "execution_count": 19,
   "metadata": {},
   "outputs": [],
   "source": [
    "# Can you see the block structure? In case you can't see it, I will remap C into K"
   ]
  },
  {
   "cell_type": "code",
   "execution_count": 20,
   "metadata": {},
   "outputs": [],
   "source": [
    "C = C.getValues(range(6), range(6))\n",
    "K = np.zeros_like(C)\n",
    "for i in range(3):\n",
    "    for j in range(3):\n",
    "        C_ij = C[2*i:2*i+2,2*j:2*j+2]\n",
    "        K[i, j] = C_ij[0, 0]\n",
    "        K[i, j+3] = C_ij[0, 1]\n",
    "        K[i+3, j] = C_ij[1, 0]\n",
    "        K[i+3, j+3] = C_ij[1, 1]"
   ]
  },
  {
   "cell_type": "code",
   "execution_count": 21,
   "metadata": {},
   "outputs": [
    {
     "data": {
      "text/plain": [
       "array([[0.167, 0.083, 0.   , 0.   , 0.   , 0.   ],\n",
       "       [0.083, 0.333, 0.083, 0.   , 0.   , 0.   ],\n",
       "       [0.   , 0.083, 0.167, 0.   , 0.   , 0.   ],\n",
       "       [0.   , 0.   , 0.   , 0.167, 0.083, 0.   ],\n",
       "       [0.   , 0.   , 0.   , 0.083, 0.333, 0.083],\n",
       "       [0.   , 0.   , 0.   , 0.   , 0.083, 0.167]])"
      ]
     },
     "execution_count": 21,
     "metadata": {},
     "output_type": "execute_result"
    }
   ],
   "source": [
    "K"
   ]
  },
  {
   "cell_type": "code",
   "execution_count": 22,
   "metadata": {},
   "outputs": [],
   "source": [
    "# Do 'c_11 = v_1 * u_1 * dx' and 'c_22 = v_2 * u_2 * dx' make more sense now?"
   ]
  }
 ],
 "metadata": {
  "kernelspec": {
   "display_name": "Python 3",
   "language": "python",
   "name": "python3"
  },
  "language_info": {
   "codemirror_mode": {
    "name": "ipython",
    "version": 3
   },
   "file_extension": ".py",
   "mimetype": "text/x-python",
   "name": "python",
   "nbconvert_exporter": "python",
   "pygments_lexer": "ipython3",
   "version": "3.7.6"
  }
 },
 "nbformat": 4,
 "nbformat_minor": 4
}
