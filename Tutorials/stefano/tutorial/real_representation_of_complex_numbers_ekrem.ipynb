{
 "cells": [
  {
   "cell_type": "code",
   "execution_count": 16,
   "metadata": {},
   "outputs": [],
   "source": [
    "import dolfin as dolf\n",
    "import numpy as np"
   ]
  },
  {
   "cell_type": "code",
   "execution_count": 17,
   "metadata": {},
   "outputs": [],
   "source": [
    "np.set_printoptions(precision=3)"
   ]
  },
  {
   "cell_type": "code",
   "execution_count": 18,
   "metadata": {},
   "outputs": [],
   "source": [
    "# Example for the stiffness matrix C\n",
    "# f_1 for real numbers and f_2 for complex numbers\n",
    "# We don't apply boundary conditions"
   ]
  },
  {
   "cell_type": "code",
   "execution_count": 19,
   "metadata": {},
   "outputs": [],
   "source": [
    "def print_blockform(C):\n",
    "    C = C.getValues(range(size_M), range(size_M))\n",
    "    K = np.zeros_like(C)\n",
    "    for i in range(N+1):\n",
    "        for j in range(N+1):\n",
    "            C_ij = C[2*i:2*i+2,2*j:2*j+2]\n",
    "            K[i, j] = C_ij[0, 0]\n",
    "            K[i, j+N+1] = C_ij[0, 1]\n",
    "            K[i+N+1, j] = C_ij[1, 0]\n",
    "            K[i+N+1, j+N+1] = C_ij[1, 1]\n",
    "    return K"
   ]
  },
  {
   "cell_type": "code",
   "execution_count": 20,
   "metadata": {},
   "outputs": [],
   "source": [
    "def f_1():\n",
    "    \n",
    "    mesh = dolf.UnitIntervalMesh(1)\n",
    "    \n",
    "    V = dolf.FunctionSpace(mesh, 'CG', 1)\n",
    "\n",
    "    u = dolf.TrialFunction(V)\n",
    "    v = dolf.TestFunction(V)\n",
    "\n",
    "    dx = dolf.Measure('dx', domain=mesh)\n",
    "\n",
    "    bcs = []\n",
    "    \n",
    "    c_ = u * v * dx\n",
    "    dummy = v * dx\n",
    "\n",
    "    C, b = dolf.assemble_system(c_, dummy, bcs)\n",
    "    C = dolf.as_backend_type(C).mat()\n",
    "    \n",
    "    return C"
   ]
  },
  {
   "cell_type": "code",
   "execution_count": 21,
   "metadata": {},
   "outputs": [],
   "source": [
    "N = 2\n",
    "size_M = (N+1)*2\n",
    "mesh = dolf.UnitIntervalMesh(N)\n",
    "\n",
    "CG = dolf.FiniteElement('CG', mesh.ufl_cell(), 1)\n",
    "W = dolf.FunctionSpace(mesh, dolf.MixedElement([CG, CG]))\n",
    "\n",
    "(u_1, u_2) = dolf.TrialFunction(W)\n",
    "(v_1, v_2) = dolf.TestFunction(W)\n",
    "\n",
    "dx = dolf.Measure('dx', domain=mesh)\n",
    "\n",
    "bcs = []\n"
   ]
  },
  {
   "cell_type": "code",
   "execution_count": 22,
   "metadata": {},
   "outputs": [
    {
     "data": {
      "text/plain": [
       "array([[0.167, 0.083, 0.   , 0.   , 0.   , 0.   ],\n",
       "       [0.083, 0.333, 0.083, 0.   , 0.   , 0.   ],\n",
       "       [0.   , 0.083, 0.167, 0.   , 0.   , 0.   ],\n",
       "       [0.   , 0.   , 0.   , 0.   , 0.   , 0.   ],\n",
       "       [0.   , 0.   , 0.   , 0.   , 0.   , 0.   ],\n",
       "       [0.   , 0.   , 0.   , 0.   , 0.   , 0.   ]])"
      ]
     },
     "execution_count": 22,
     "metadata": {},
     "output_type": "execute_result"
    }
   ],
   "source": [
    "c_11 = v_1 * u_1 * dx\n",
    "c_ = c_11\n",
    "dummy = (v_1 + v_2) * dx\n",
    "C, b = dolf.assemble_system(c_, dummy, bcs)\n",
    "C = dolf.as_backend_type(C).mat()\n",
    "print_blockform(C)"
   ]
  },
  {
   "cell_type": "code",
   "execution_count": 23,
   "metadata": {},
   "outputs": [
    {
     "data": {
      "text/plain": [
       "array([[0.   , 0.   , 0.   , 0.   , 0.   , 0.   ],\n",
       "       [0.   , 0.   , 0.   , 0.   , 0.   , 0.   ],\n",
       "       [0.   , 0.   , 0.   , 0.   , 0.   , 0.   ],\n",
       "       [0.   , 0.   , 0.   , 0.167, 0.083, 0.   ],\n",
       "       [0.   , 0.   , 0.   , 0.083, 0.333, 0.083],\n",
       "       [0.   , 0.   , 0.   , 0.   , 0.083, 0.167]])"
      ]
     },
     "execution_count": 23,
     "metadata": {},
     "output_type": "execute_result"
    }
   ],
   "source": [
    "c_22 = v_2 * u_2 * dx\n",
    "c_ = c_22\n",
    "dummy = (v_1 + v_2) * dx\n",
    "C, b = dolf.assemble_system(c_, dummy, bcs)\n",
    "C = dolf.as_backend_type(C).mat()\n",
    "print_blockform(C)"
   ]
  },
  {
   "cell_type": "code",
   "execution_count": 24,
   "metadata": {},
   "outputs": [
    {
     "data": {
      "text/plain": [
       "array([[0.167, 0.083, 0.   , 0.   , 0.   , 0.   ],\n",
       "       [0.083, 0.333, 0.083, 0.   , 0.   , 0.   ],\n",
       "       [0.   , 0.083, 0.167, 0.   , 0.   , 0.   ],\n",
       "       [0.   , 0.   , 0.   , 0.167, 0.083, 0.   ],\n",
       "       [0.   , 0.   , 0.   , 0.083, 0.333, 0.083],\n",
       "       [0.   , 0.   , 0.   , 0.   , 0.083, 0.167]])"
      ]
     },
     "execution_count": 24,
     "metadata": {},
     "output_type": "execute_result"
    }
   ],
   "source": [
    "c_11 = v_1 * u_1 * dx\n",
    "c_22 = v_2 * u_2 * dx\n",
    "c_ = c_11 + c_22\n",
    "dummy = (v_1 + v_2) * dx\n",
    "C, b = dolf.assemble_system(c_, dummy, bcs)\n",
    "C = dolf.as_backend_type(C).mat()\n",
    "print_blockform(C)"
   ]
  },
  {
   "cell_type": "code",
   "execution_count": 25,
   "metadata": {},
   "outputs": [],
   "source": [
    "# Can you see the block structure? In case you can't see it, I will remap C into K"
   ]
  },
  {
   "cell_type": "code",
   "execution_count": 26,
   "metadata": {},
   "outputs": [],
   "source": [
    "#C = C.getValues(range(size_M), range(size_M))\n"
   ]
  },
  {
   "cell_type": "code",
   "execution_count": 35,
   "metadata": {},
   "outputs": [
    {
     "data": {
      "text/plain": [
       "array([[ 0.   ,  0.167,  0.   ,  0.083,  0.   ,  0.   ],\n",
       "       [-0.167,  0.   , -0.083,  0.   ,  0.   ,  0.   ],\n",
       "       [ 0.   ,  0.083,  0.   ,  0.333,  0.   ,  0.083],\n",
       "       [-0.083,  0.   , -0.333,  0.   , -0.083,  0.   ],\n",
       "       [ 0.   ,  0.   ,  0.   ,  0.083,  0.   ,  0.167],\n",
       "       [ 0.   ,  0.   , -0.083,  0.   , -0.167,  0.   ]])"
      ]
     },
     "execution_count": 35,
     "metadata": {},
     "output_type": "execute_result"
    }
   ],
   "source": [
    "c_21 = -v_2 * u_1 * dx \n",
    "c_12 = v_1 * u_2 * dx\n",
    "c_ = c_12 + c_21\n",
    "dummy = (v_1 + v_2) * dx\n",
    "C, b = dolf.assemble_system(c_, dummy, bcs)\n",
    "C = dolf.as_backend_type(C).mat()\n",
    "C.getValues(range(6),range(6))"
   ]
  },
  {
   "cell_type": "code",
   "execution_count": 36,
   "metadata": {},
   "outputs": [
    {
     "data": {
      "text/plain": [
       "array([[ 0.   ,  0.   ,  0.   ,  0.167,  0.083,  0.   ],\n",
       "       [ 0.   ,  0.   ,  0.   ,  0.083,  0.333,  0.083],\n",
       "       [ 0.   ,  0.   ,  0.   ,  0.   ,  0.083,  0.167],\n",
       "       [-0.167, -0.083,  0.   ,  0.   ,  0.   ,  0.   ],\n",
       "       [-0.083, -0.333, -0.083,  0.   ,  0.   ,  0.   ],\n",
       "       [ 0.   , -0.083, -0.167,  0.   ,  0.   ,  0.   ]])"
      ]
     },
     "execution_count": 36,
     "metadata": {},
     "output_type": "execute_result"
    }
   ],
   "source": [
    "print_blockform(C)"
   ]
  },
  {
   "cell_type": "code",
   "execution_count": 37,
   "metadata": {},
   "outputs": [
    {
     "name": "stdout",
     "output_type": "stream",
     "text": [
      "Calling FFC just-in-time (JIT) compiler, this may take some time.\n"
     ]
    },
    {
     "data": {
      "text/plain": [
       "array([[ 0.167,  0.167,  0.083,  0.083,  0.   ,  0.   ],\n",
       "       [-0.167,  0.167, -0.083,  0.083,  0.   ,  0.   ],\n",
       "       [ 0.083,  0.083,  0.333,  0.333,  0.083,  0.083],\n",
       "       [-0.083,  0.083, -0.333,  0.333, -0.083,  0.083],\n",
       "       [ 0.   ,  0.   ,  0.083,  0.083,  0.167,  0.167],\n",
       "       [ 0.   ,  0.   , -0.083,  0.083, -0.167,  0.167]])"
      ]
     },
     "execution_count": 37,
     "metadata": {},
     "output_type": "execute_result"
    }
   ],
   "source": [
    "c_ = c_11 + c_12 + c_21 + c_22\n",
    "C, b = dolf.assemble_system(c_, dummy, bcs)\n",
    "C = dolf.as_backend_type(C).mat()\n",
    "C.getValues(range(6),range(6))"
   ]
  },
  {
   "cell_type": "code",
   "execution_count": 28,
   "metadata": {},
   "outputs": [],
   "source": [
    "C = C.getValues(range(size_M), range(size_M))\n",
    "K = np.zeros_like(C)\n",
    "for i in range(N+1):\n",
    "    for j in range(N+1):\n",
    "        C_ij = C[2*i:2*i+2,2*j:2*j+2]\n",
    "        K[i, j] = C_ij[0, 0]\n",
    "        K[i, j+N+1] = C_ij[0, 1]\n",
    "        K[i+N+1, j] = C_ij[1, 0]\n",
    "        K[i+N+1, j+N+1] = C_ij[1, 1]"
   ]
  },
  {
   "cell_type": "code",
   "execution_count": 29,
   "metadata": {},
   "outputs": [
    {
     "data": {
      "text/plain": [
       "array([[ 0.   ,  0.   ,  0.   ,  0.167,  0.083,  0.   ],\n",
       "       [ 0.   ,  0.   ,  0.   ,  0.083,  0.333,  0.083],\n",
       "       [ 0.   ,  0.   ,  0.   ,  0.   ,  0.083,  0.167],\n",
       "       [-0.167, -0.083,  0.   ,  0.   ,  0.   ,  0.   ],\n",
       "       [-0.083, -0.333, -0.083,  0.   ,  0.   ,  0.   ],\n",
       "       [ 0.   , -0.083, -0.167,  0.   ,  0.   ,  0.   ]])"
      ]
     },
     "execution_count": 29,
     "metadata": {},
     "output_type": "execute_result"
    }
   ],
   "source": [
    "K"
   ]
  },
  {
   "cell_type": "code",
   "execution_count": 30,
   "metadata": {},
   "outputs": [],
   "source": [
    "# Do 'c_11 = v_1 * u_1 * dx' and 'c_22 = v_2 * u_2 * dx' make more sense now?"
   ]
  }
 ],
 "metadata": {
  "kernelspec": {
   "display_name": "Python 3",
   "language": "python",
   "name": "python3"
  },
  "language_info": {
   "codemirror_mode": {
    "name": "ipython",
    "version": 3
   },
   "file_extension": ".py",
   "mimetype": "text/x-python",
   "name": "python",
   "nbconvert_exporter": "python",
   "pygments_lexer": "ipython3",
   "version": "3.7.6"
  }
 },
 "nbformat": 4,
 "nbformat_minor": 4
}
