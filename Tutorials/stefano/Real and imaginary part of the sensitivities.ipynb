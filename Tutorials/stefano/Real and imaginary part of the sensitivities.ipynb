{
 "cells": [
  {
   "cell_type": "code",
   "execution_count": 1,
   "metadata": {},
   "outputs": [],
   "source": [
    "import dolfin as dolf\n",
    "import numpy as np"
   ]
  },
  {
   "cell_type": "code",
   "execution_count": 2,
   "metadata": {},
   "outputs": [],
   "source": [
    "mesh = dolf.UnitIntervalMesh(4)\n",
    "CG = dolf.FiniteElement('CG', mesh.ufl_cell(), 1)\n",
    "W = dolf.FunctionSpace(mesh, CG * CG)\n",
    "dofmap = W.dofmap()"
   ]
  },
  {
   "cell_type": "code",
   "execution_count": 3,
   "metadata": {},
   "outputs": [],
   "source": [
    "f = dolf.Expression(('1', '2'), element=W.ufl_element())  # 'right eigenvector'\n",
    "g = dolf.Expression(('3', '4'), element=W.ufl_element())  # 'left eigenvector'"
   ]
  },
  {
   "cell_type": "code",
   "execution_count": 4,
   "metadata": {},
   "outputs": [],
   "source": [
    "f = dolf.interpolate(f, W)\n",
    "g = dolf.interpolate(g, W)"
   ]
  },
  {
   "cell_type": "code",
   "execution_count": 5,
   "metadata": {},
   "outputs": [],
   "source": [
    "f = f.vector().get_local()\n",
    "g = g.vector().get_local()"
   ]
  },
  {
   "cell_type": "code",
   "execution_count": 6,
   "metadata": {},
   "outputs": [],
   "source": [
    "(u_1, u_2) = dolf.TrialFunction(W)\n",
    "(v_1, v_2) = dolf.TestFunction(W)\n",
    "\n",
    "dx = dolf.Measure('dx')\n",
    "\n",
    "c = (v_1 * u_1 + v_2 * u_2) * dx"
   ]
  },
  {
   "cell_type": "code",
   "execution_count": 9,
   "metadata": {},
   "outputs": [
    {
     "name": "stdout",
     "output_type": "stream",
     "text": [
      "[1.+2.j 1.+2.j]\n",
      "[3.+4.j 3.+4.j]\n",
      "(2.7499999999999996-0.5j)\n",
      "[1.+2.j 1.+2.j]\n",
      "[3.+4.j 3.+4.j]\n",
      "(2.7499999999999996-0.5j)\n",
      "[1.+2.j 1.+2.j]\n",
      "[3.+4.j 3.+4.j]\n",
      "(2.7499999999999996-0.5j)\n",
      "[1.+2.j 1.+2.j]\n",
      "[3.+4.j 3.+4.j]\n",
      "(2.7499999999999996-0.5j)\n"
     ]
    }
   ],
   "source": [
    "for cell in dolf.cells(mesh):\n",
    "    \n",
    "    C = dolf.assemble_local(c, cell)\n",
    "    \n",
    "    C = C[0:2,0:2]\n",
    "    #print(C)\n",
    "    \n",
    "    indices = dofmap.cell_dofs(cell.index())\n",
    "    \n",
    "    u = f[indices]  # local right eigenvector\n",
    "    v = g[indices]  # local left eigenvector\n",
    "    \n",
    "    u = u[0:2] + u[2:4] * 1j\n",
    "    v = v[0:2] + v[2:4] * 1j\n",
    "    print(u)\n",
    "    print(v)\n",
    "    \n",
    "    \n",
    "    print(np.dot(u.conjugate(), np.dot(C, v)))"
   ]
  },
  {
   "cell_type": "code",
   "execution_count": null,
   "metadata": {},
   "outputs": [],
   "source": []
  }
 ],
 "metadata": {
  "kernelspec": {
   "display_name": "Python 3",
   "language": "python",
   "name": "python3"
  },
  "language_info": {
   "codemirror_mode": {
    "name": "ipython",
    "version": 3
   },
   "file_extension": ".py",
   "mimetype": "text/x-python",
   "name": "python",
   "nbconvert_exporter": "python",
   "pygments_lexer": "ipython3",
   "version": "3.7.6"
  }
 },
 "nbformat": 4,
 "nbformat_minor": 4
}
